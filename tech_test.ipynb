{
 "cells": [
  {
   "cell_type": "markdown",
   "id": "d86dfb10",
   "metadata": {},
   "source": [
    "Task 1\n",
    "Business roles at AgroStar require a baseline of analytical skills, and it is also critical that we are able to explain complex concepts in a simple way to a variety of audiences. This test is structured so that someone with the baseline skills needed to succeed in the role should be able to complete this in under 4 hours without assistance.\n",
    "\n",
    "Use the data in the included sheet to address the following scenario…\n",
    "\n",
    "Since its inception, AgroStar has been leveraging an assisted marketplace model. Given that the market potential is huge and that the target customer appreciates a physical store nearby, we have taken a call to explore the offline retail model to drive growth. The primary objective is to get a larger wallet share for AgroStar among existing customers.\n",
    "\n",
    "Assume you are back in time, in August 2018 and you have been asked to determine the location (taluka) of the first AgroStar offline retail store.\n",
    "\n",
    "What are the key factors you would use to determine the location? Why?\n",
    "What taluka (across three states) would you look open in? Why?"
   ]
  },
  {
   "cell_type": "code",
   "execution_count": null,
   "id": "0d4b440d",
   "metadata": {},
   "outputs": [
    {
     "name": "stdout",
     "output_type": "stream",
     "text": [
      "<class 'pandas.core.frame.DataFrame'>\n",
      "Index: 1 entries, Dinner to Dinner\n",
      "Data columns (total 4 columns):\n",
      " #   Column  Non-Null Count  Dtype \n",
      "---  ------  --------------  ----- \n",
      " 0   Flour   1 non-null      object\n",
      " 1   Milk    1 non-null      object\n",
      " 2   Eggs    1 non-null      object\n",
      " 3   Spam    1 non-null      object\n",
      "dtypes: object(4)\n",
      "memory usage: 40.0+ bytes\n"
     ]
    }
   ],
   "source": [
    "import pandas as pd\n",
    "\"\"\"Flour     4 cups\n",
    "Milk       1 cup\n",
    "Eggs     2 large\n",
    "Spam       1 can\n",
    "Name: Dinner, dtype: object\"\"\"\n",
    "pd.Series({\n",
    "    \"Flour\": [\"4 cups\"],\n",
    "    \"Milk\": [\"1 cup\"],\n",
    "    \"Eggs\": [\"2 large\"],\n",
    "    \"Spam\": [\"1 can\"]\n",
    "    }, name=\"Dinner\")"
   ]
  },
  {
   "cell_type": "code",
   "execution_count": null,
   "id": "b7164822",
   "metadata": {},
   "outputs": [],
   "source": []
  }
 ],
 "metadata": {
  "kernelspec": {
   "display_name": "base",
   "language": "python",
   "name": "python3"
  },
  "language_info": {
   "codemirror_mode": {
    "name": "ipython",
    "version": 3
   },
   "file_extension": ".py",
   "mimetype": "text/x-python",
   "name": "python",
   "nbconvert_exporter": "python",
   "pygments_lexer": "ipython3",
   "version": "3.12.7"
  }
 },
 "nbformat": 4,
 "nbformat_minor": 5
}
